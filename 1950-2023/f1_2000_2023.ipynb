{
 "cells": [
  {
   "cell_type": "code",
   "execution_count": 1,
   "id": "db173754",
   "metadata": {},
   "outputs": [],
   "source": [
    "#NEED TO CHANGE EVERY FILE DIRECTORY AS I WAS TRYNG TO PUT EVERYTHING IN NEW FOLDERS "
   ]
  },
  {
   "cell_type": "code",
   "execution_count": 2,
   "id": "053649da",
   "metadata": {},
   "outputs": [],
   "source": [
    "import pandas as pd\n",
    "import matplotlib.pyplot as plt\n",
    "import seaborn as sns\n",
    "import folium\n",
    "from folium.plugins import MarkerCluster"
   ]
  },
  {
   "cell_type": "code",
   "execution_count": 3,
   "id": "7d4fc4ec",
   "metadata": {},
   "outputs": [
    {
     "data": {
      "text/html": [
       "<div>\n",
       "<style scoped>\n",
       "    .dataframe tbody tr th:only-of-type {\n",
       "        vertical-align: middle;\n",
       "    }\n",
       "\n",
       "    .dataframe tbody tr th {\n",
       "        vertical-align: top;\n",
       "    }\n",
       "\n",
       "    .dataframe thead th {\n",
       "        text-align: right;\n",
       "    }\n",
       "</style>\n",
       "<table border=\"1\" class=\"dataframe\">\n",
       "  <thead>\n",
       "    <tr style=\"text-align: right;\">\n",
       "      <th></th>\n",
       "      <th>circuitId</th>\n",
       "      <th>circuitRef</th>\n",
       "      <th>name</th>\n",
       "      <th>location</th>\n",
       "      <th>country</th>\n",
       "      <th>lat</th>\n",
       "      <th>lng</th>\n",
       "      <th>alt</th>\n",
       "      <th>url</th>\n",
       "    </tr>\n",
       "  </thead>\n",
       "  <tbody>\n",
       "    <tr>\n",
       "      <th>0</th>\n",
       "      <td>1</td>\n",
       "      <td>albert_park</td>\n",
       "      <td>Albert Park Grand Prix Circuit</td>\n",
       "      <td>Melbourne</td>\n",
       "      <td>Australia</td>\n",
       "      <td>-37.84970</td>\n",
       "      <td>144.96800</td>\n",
       "      <td>10</td>\n",
       "      <td>http://en.wikipedia.org/wiki/Melbourne_Grand_P...</td>\n",
       "    </tr>\n",
       "    <tr>\n",
       "      <th>1</th>\n",
       "      <td>2</td>\n",
       "      <td>sepang</td>\n",
       "      <td>Sepang International Circuit</td>\n",
       "      <td>Kuala Lumpur</td>\n",
       "      <td>Malaysia</td>\n",
       "      <td>2.76083</td>\n",
       "      <td>101.73800</td>\n",
       "      <td>18</td>\n",
       "      <td>http://en.wikipedia.org/wiki/Sepang_Internatio...</td>\n",
       "    </tr>\n",
       "    <tr>\n",
       "      <th>2</th>\n",
       "      <td>3</td>\n",
       "      <td>bahrain</td>\n",
       "      <td>Bahrain International Circuit</td>\n",
       "      <td>Sakhir</td>\n",
       "      <td>Bahrain</td>\n",
       "      <td>26.03250</td>\n",
       "      <td>50.51060</td>\n",
       "      <td>7</td>\n",
       "      <td>http://en.wikipedia.org/wiki/Bahrain_Internati...</td>\n",
       "    </tr>\n",
       "    <tr>\n",
       "      <th>3</th>\n",
       "      <td>4</td>\n",
       "      <td>catalunya</td>\n",
       "      <td>Circuit de Barcelona-Catalunya</td>\n",
       "      <td>Montmeló</td>\n",
       "      <td>Spain</td>\n",
       "      <td>41.57000</td>\n",
       "      <td>2.26111</td>\n",
       "      <td>109</td>\n",
       "      <td>http://en.wikipedia.org/wiki/Circuit_de_Barcel...</td>\n",
       "    </tr>\n",
       "    <tr>\n",
       "      <th>4</th>\n",
       "      <td>5</td>\n",
       "      <td>istanbul</td>\n",
       "      <td>Istanbul Park</td>\n",
       "      <td>Istanbul</td>\n",
       "      <td>Turkey</td>\n",
       "      <td>40.95170</td>\n",
       "      <td>29.40500</td>\n",
       "      <td>130</td>\n",
       "      <td>http://en.wikipedia.org/wiki/Istanbul_Park</td>\n",
       "    </tr>\n",
       "    <tr>\n",
       "      <th>...</th>\n",
       "      <td>...</td>\n",
       "      <td>...</td>\n",
       "      <td>...</td>\n",
       "      <td>...</td>\n",
       "      <td>...</td>\n",
       "      <td>...</td>\n",
       "      <td>...</td>\n",
       "      <td>...</td>\n",
       "      <td>...</td>\n",
       "    </tr>\n",
       "    <tr>\n",
       "      <th>72</th>\n",
       "      <td>75</td>\n",
       "      <td>portimao</td>\n",
       "      <td>Autódromo Internacional do Algarve</td>\n",
       "      <td>Portimão</td>\n",
       "      <td>Portugal</td>\n",
       "      <td>37.22700</td>\n",
       "      <td>-8.62670</td>\n",
       "      <td>108</td>\n",
       "      <td>http://en.wikipedia.org/wiki/Algarve_Internati...</td>\n",
       "    </tr>\n",
       "    <tr>\n",
       "      <th>73</th>\n",
       "      <td>76</td>\n",
       "      <td>mugello</td>\n",
       "      <td>Autodromo Internazionale del Mugello</td>\n",
       "      <td>Mugello</td>\n",
       "      <td>Italy</td>\n",
       "      <td>43.99750</td>\n",
       "      <td>11.37190</td>\n",
       "      <td>255</td>\n",
       "      <td>http://en.wikipedia.org/wiki/Mugello_Circuit</td>\n",
       "    </tr>\n",
       "    <tr>\n",
       "      <th>74</th>\n",
       "      <td>77</td>\n",
       "      <td>jeddah</td>\n",
       "      <td>Jeddah Corniche Circuit</td>\n",
       "      <td>Jeddah</td>\n",
       "      <td>Saudi Arabia</td>\n",
       "      <td>21.63190</td>\n",
       "      <td>39.10440</td>\n",
       "      <td>15</td>\n",
       "      <td>http://en.wikipedia.org/wiki/Jeddah_Street_Cir...</td>\n",
       "    </tr>\n",
       "    <tr>\n",
       "      <th>75</th>\n",
       "      <td>78</td>\n",
       "      <td>losail</td>\n",
       "      <td>Losail International Circuit</td>\n",
       "      <td>Al Daayen</td>\n",
       "      <td>Qatar</td>\n",
       "      <td>25.49000</td>\n",
       "      <td>51.45420</td>\n",
       "      <td>12</td>\n",
       "      <td>http://en.wikipedia.org/wiki/Losail_Internatio...</td>\n",
       "    </tr>\n",
       "    <tr>\n",
       "      <th>76</th>\n",
       "      <td>79</td>\n",
       "      <td>miami</td>\n",
       "      <td>Miami International Autodrome</td>\n",
       "      <td>Miami</td>\n",
       "      <td>USA</td>\n",
       "      <td>25.95810</td>\n",
       "      <td>-80.23890</td>\n",
       "      <td>0</td>\n",
       "      <td>http://en.wikipedia.org/wiki/Miami_Internation...</td>\n",
       "    </tr>\n",
       "  </tbody>\n",
       "</table>\n",
       "<p>77 rows × 9 columns</p>\n",
       "</div>"
      ],
      "text/plain": [
       "    circuitId   circuitRef                                  name  \\\n",
       "0           1  albert_park        Albert Park Grand Prix Circuit   \n",
       "1           2       sepang          Sepang International Circuit   \n",
       "2           3      bahrain         Bahrain International Circuit   \n",
       "3           4    catalunya        Circuit de Barcelona-Catalunya   \n",
       "4           5     istanbul                         Istanbul Park   \n",
       "..        ...          ...                                   ...   \n",
       "72         75     portimao    Autódromo Internacional do Algarve   \n",
       "73         76      mugello  Autodromo Internazionale del Mugello   \n",
       "74         77       jeddah               Jeddah Corniche Circuit   \n",
       "75         78       losail          Losail International Circuit   \n",
       "76         79        miami         Miami International Autodrome   \n",
       "\n",
       "        location       country       lat        lng  alt  \\\n",
       "0      Melbourne     Australia -37.84970  144.96800   10   \n",
       "1   Kuala Lumpur      Malaysia   2.76083  101.73800   18   \n",
       "2         Sakhir       Bahrain  26.03250   50.51060    7   \n",
       "3       Montmeló         Spain  41.57000    2.26111  109   \n",
       "4       Istanbul        Turkey  40.95170   29.40500  130   \n",
       "..           ...           ...       ...        ...  ...   \n",
       "72      Portimão      Portugal  37.22700   -8.62670  108   \n",
       "73       Mugello         Italy  43.99750   11.37190  255   \n",
       "74        Jeddah  Saudi Arabia  21.63190   39.10440   15   \n",
       "75     Al Daayen         Qatar  25.49000   51.45420   12   \n",
       "76         Miami           USA  25.95810  -80.23890    0   \n",
       "\n",
       "                                                  url  \n",
       "0   http://en.wikipedia.org/wiki/Melbourne_Grand_P...  \n",
       "1   http://en.wikipedia.org/wiki/Sepang_Internatio...  \n",
       "2   http://en.wikipedia.org/wiki/Bahrain_Internati...  \n",
       "3   http://en.wikipedia.org/wiki/Circuit_de_Barcel...  \n",
       "4          http://en.wikipedia.org/wiki/Istanbul_Park  \n",
       "..                                                ...  \n",
       "72  http://en.wikipedia.org/wiki/Algarve_Internati...  \n",
       "73       http://en.wikipedia.org/wiki/Mugello_Circuit  \n",
       "74  http://en.wikipedia.org/wiki/Jeddah_Street_Cir...  \n",
       "75  http://en.wikipedia.org/wiki/Losail_Internatio...  \n",
       "76  http://en.wikipedia.org/wiki/Miami_Internation...  \n",
       "\n",
       "[77 rows x 9 columns]"
      ]
     },
     "execution_count": 3,
     "metadata": {},
     "output_type": "execute_result"
    }
   ],
   "source": [
    "circuits =pd.read_csv('../1950-2023/circuits.csv')\n",
    "circuits"
   ]
  },
  {
   "cell_type": "code",
   "execution_count": null,
   "id": "8c60635e",
   "metadata": {},
   "outputs": [],
   "source": [
    "constructor_results = pd.read_csv('../1950-2023/constructor_results.csv')\n",
    "constructor_results"
   ]
  },
  {
   "cell_type": "code",
   "execution_count": null,
   "id": "8e8e2409",
   "metadata": {},
   "outputs": [],
   "source": [
    "constructor_standings= pd.read_csv('../1950-2023/constructor_standings.csv')\n",
    "constructor_standings"
   ]
  },
  {
   "cell_type": "code",
   "execution_count": null,
   "id": "935f6d47",
   "metadata": {},
   "outputs": [],
   "source": [
    "constructors= pd.read_csv('../1950-2023/constructors.csv')\n",
    "constructors"
   ]
  },
  {
   "cell_type": "code",
   "execution_count": null,
   "id": "55f49884",
   "metadata": {},
   "outputs": [],
   "source": [
    "driver_standings = pd.read_csv('../1950-2023/driver_standings.csv')\n",
    "driver_standings"
   ]
  },
  {
   "cell_type": "code",
   "execution_count": null,
   "id": "df02ee85",
   "metadata": {},
   "outputs": [],
   "source": [
    "drivers = pd.read_csv('../1950-2023/drivers.csv')\n",
    "drivers"
   ]
  },
  {
   "cell_type": "code",
   "execution_count": null,
   "id": "ae1ff71a",
   "metadata": {},
   "outputs": [],
   "source": [
    "drivers.head()"
   ]
  },
  {
   "cell_type": "code",
   "execution_count": null,
   "id": "00326794",
   "metadata": {},
   "outputs": [],
   "source": [
    "drivers.duplicated().sum()"
   ]
  },
  {
   "cell_type": "code",
   "execution_count": null,
   "id": "518de8ea",
   "metadata": {},
   "outputs": [],
   "source": [
    "num_null = (drivers['number'] == r'\\N').sum()\n",
    "num_null "
   ]
  },
  {
   "cell_type": "code",
   "execution_count": null,
   "id": "2ddfb07a",
   "metadata": {},
   "outputs": [],
   "source": [
    "nun_null = (drivers['number'] != r'\\N').sum()\n",
    "nun_null "
   ]
  },
  {
   "cell_type": "code",
   "execution_count": null,
   "id": "a1337e9d",
   "metadata": {},
   "outputs": [],
   "source": [
    "# drop some values\n",
    "driversd = drivers.drop(labels = ['number','code', 'url'], axis = 1)\n",
    "driversd.head()"
   ]
  },
  {
   "cell_type": "code",
   "execution_count": null,
   "id": "a4328810",
   "metadata": {},
   "outputs": [],
   "source": [
    "# 5 youngest drivers\n",
    "drivers_theyoungest = driversd.sort_values(by='dob', ascending=False)[:5]\n",
    "drivers_theyoungest"
   ]
  },
  {
   "cell_type": "code",
   "execution_count": null,
   "id": "2d93bfc4",
   "metadata": {},
   "outputs": [],
   "source": [
    "nationality_counts = driversd.groupby(\"nationality\").size()\n",
    "sorted_nationalities = nationality_counts.sort_values(ascending=False)\n",
    "sorted_nationalities.head(10)"
   ]
  },
  {
   "cell_type": "code",
   "execution_count": null,
   "id": "6cbe2a42",
   "metadata": {},
   "outputs": [],
   "source": []
  },
  {
   "cell_type": "code",
   "execution_count": null,
   "id": "7be4495b",
   "metadata": {},
   "outputs": [],
   "source": []
  },
  {
   "cell_type": "code",
   "execution_count": null,
   "id": "436760f1",
   "metadata": {},
   "outputs": [],
   "source": []
  },
  {
   "cell_type": "code",
   "execution_count": null,
   "id": "6df1534d",
   "metadata": {},
   "outputs": [],
   "source": [
    "merged_driver_standings = pd.merge(driver_standings, drivers, on='driverId', how='inner')\n",
    "\n",
    "# Display the merged DataFrame\n",
    "print(merged_driver_standings)"
   ]
  },
  {
   "cell_type": "code",
   "execution_count": null,
   "id": "4a6be81f",
   "metadata": {},
   "outputs": [],
   "source": [
    "selected_columns4 = ['driverId', 'forename', 'surname', 'nationality', 'dob']\n",
    "selected_data = merged_driver_standings[selected_columns4]\n",
    "selected_data"
   ]
  },
  {
   "cell_type": "code",
   "execution_count": null,
   "id": "c1eda79d",
   "metadata": {},
   "outputs": [],
   "source": [
    "# Get unique rows based on the 'driverId' column\n",
    "unique_drivers = selected_data.drop_duplicates(subset=['driverId'])\n",
    "unique_drivers"
   ]
  },
  {
   "cell_type": "code",
   "execution_count": null,
   "id": "42f23f2e",
   "metadata": {},
   "outputs": [],
   "source": []
  },
  {
   "cell_type": "code",
   "execution_count": null,
   "id": "a04a6ce6",
   "metadata": {},
   "outputs": [],
   "source": []
  },
  {
   "cell_type": "code",
   "execution_count": null,
   "id": "429ce48d",
   "metadata": {},
   "outputs": [],
   "source": [
    "lap_times = pd.read_csv('../1950-2023/lap_times.csv')\n",
    "lap_times"
   ]
  },
  {
   "cell_type": "code",
   "execution_count": null,
   "id": "5f5411ea",
   "metadata": {},
   "outputs": [],
   "source": [
    "pit_stops = pd.read_csv('../1950-2023/pit_stops.csv')\n",
    "pit_stops"
   ]
  },
  {
   "cell_type": "code",
   "execution_count": null,
   "id": "9629d7b1",
   "metadata": {},
   "outputs": [],
   "source": [
    "qualifying = pd.read_csv('../1950-2023/qualifying.csv')\n",
    "qualifying"
   ]
  },
  {
   "cell_type": "code",
   "execution_count": null,
   "id": "836768da",
   "metadata": {},
   "outputs": [],
   "source": [
    "races = pd.read_csv('../1950-2023/races.csv')\n",
    "races"
   ]
  },
  {
   "cell_type": "code",
   "execution_count": null,
   "id": "5f5c7ad8",
   "metadata": {},
   "outputs": [],
   "source": [
    "races.to_excel('races_excel.xlsx')"
   ]
  },
  {
   "cell_type": "code",
   "execution_count": null,
   "id": "e4297bca",
   "metadata": {},
   "outputs": [],
   "source": [
    "results = pd.read_csv('../1950-2023/results.csv')\n",
    "results"
   ]
  },
  {
   "cell_type": "code",
   "execution_count": null,
   "id": "88d13acb",
   "metadata": {},
   "outputs": [],
   "source": [
    "seasons = pd.read_csv('../1950-2023/seasons.csv')\n",
    "seasons"
   ]
  },
  {
   "cell_type": "code",
   "execution_count": null,
   "id": "d8ccfca0",
   "metadata": {},
   "outputs": [],
   "source": [
    "sprint_results = pd.read_csv('../1950-2023/drivers.csv')\n",
    "sprint_results"
   ]
  },
  {
   "cell_type": "code",
   "execution_count": null,
   "id": "51027c18",
   "metadata": {},
   "outputs": [],
   "source": [
    "status = pd.read_csv('../1950-2023/status.csv')\n",
    "status"
   ]
  },
  {
   "cell_type": "code",
   "execution_count": null,
   "id": "5a8b9176",
   "metadata": {},
   "outputs": [],
   "source": [
    "print(\"Number of rows and columns in each data frame:\")\n",
    "print(\"races:\", races.shape)\n",
    "print(\"constructor_results:\", constructor_results.shape)\n",
    "print(\"drivers:\", drivers.shape)\n",
    "print(\"constructors:\", constructors.shape)\n",
    "print(\"lap_times:\", lap_times.shape)\n",
    "print(\"status:\", status.shape)\n",
    "print(\"driver_standings:\", driver_standings.shape)\n",
    "print(\"seasons:\", seasons.shape)\n",
    "print(\"pit_stops:\", pit_stops.shape)\n",
    "print(\"sprint_results:\", sprint_results.shape)\n",
    "print(\"constructor_standings:\", constructor_standings.shape)\n",
    "print(\"results:\", results.shape)\n",
    "print(\"circuits:\", circuits.shape)\n",
    "print(\"qualifying:\", qualifying.shape)"
   ]
  },
  {
   "cell_type": "code",
   "execution_count": null,
   "id": "003fe9ee",
   "metadata": {},
   "outputs": [],
   "source": [
    "print(\"\\nPreview of the data frames:\")\n",
    "print(\"races:\")\n",
    "print(races.head())\n",
    "print(\"\\nconstructor_results:\")\n",
    "print(constructor_results.head())\n",
    "print(\"\\ndrivers:\")\n",
    "print(drivers.head())\n",
    "print(\"\\nconstructors:\")\n",
    "print(constructors.head())\n",
    "print(\"\\nlap_times:\")\n",
    "print(lap_times.head())\n",
    "print(\"\\nstatus:\")\n",
    "print(status.head())\n",
    "print(\"\\ndriver_standings:\")\n",
    "print(driver_standings.head())\n",
    "print(\"\\nseasons:\")\n",
    "print(seasons.head())\n",
    "print(\"\\npit_stops:\")\n",
    "print(pit_stops.head())\n",
    "print(\"\\nsprint_results:\")\n",
    "print(sprint_results.head())"
   ]
  },
  {
   "cell_type": "code",
   "execution_count": null,
   "id": "00265b78",
   "metadata": {},
   "outputs": [],
   "source": [
    "results"
   ]
  },
  {
   "cell_type": "code",
   "execution_count": null,
   "id": "b145345f",
   "metadata": {},
   "outputs": [],
   "source": [
    "lap_times"
   ]
  },
  {
   "cell_type": "code",
   "execution_count": null,
   "id": "1beeec49",
   "metadata": {},
   "outputs": [],
   "source": [
    "circuits.head(5)"
   ]
  },
  {
   "cell_type": "code",
   "execution_count": null,
   "id": "0abf5b72",
   "metadata": {},
   "outputs": [],
   "source": [
    "df = pd.concat( \n",
    "    map(pd.read_csv, ['circuits.csv', 'constructor_results.csv','constructor_standings.csv','constructors.csv','driver_standings.csv','drivers.csv','lap_times.csv','pit_stops.csv','qualifying.csv','races.csv','results.csv','seasons.csv','sprint_results.csv','status.csv']), ignore_index=True) \n",
    "df"
   ]
  },
  {
   "cell_type": "code",
   "execution_count": null,
   "id": "49316634",
   "metadata": {},
   "outputs": [],
   "source": [
    "df[['circuitId', 'circuitRef', 'name', 'location', 'country', 'lat', 'lng',\n",
    "       'alt', 'constructorResultsId', 'raceId', 'constructorId', 'points',\n",
    "       'status', 'constructorStandingsId', 'position', 'positionText', 'wins',\n",
    "       'constructorRef', 'nationality', 'driverStandingsId', 'driverId',\n",
    "       'driverRef', 'forename', 'surname', 'dob', 'lap', 'time',\n",
    "       'milliseconds', 'stop', 'duration', 'qualifyId', 'q1', 'q2', 'q3',\n",
    "       'year', 'round', 'date', 'fp1_date', 'fp1_time', 'fp2_date', 'fp2_time',\n",
    "       'fp3_date', 'fp3_time', 'quali_date', 'quali_time', 'sprint_date',\n",
    "       'sprint_time', 'resultId', 'grid', 'positionOrder', 'laps',\n",
    "       'fastestLap', 'rank', 'fastestLapTime', 'fastestLapSpeed', 'statusId']] = df[['circuitId', 'circuitRef', 'name', 'location', 'country', 'lat', 'lng',\n",
    "       'alt', 'constructorResultsId', 'raceId', 'constructorId', 'points',\n",
    "       'status', 'constructorStandingsId', 'position', 'positionText', 'wins',\n",
    "       'constructorRef', 'nationality', 'driverStandingsId', 'driverId',\n",
    "       'driverRef', 'forename', 'surname', 'dob', 'lap', 'time',\n",
    "       'milliseconds', 'stop', 'duration', 'qualifyId', 'q1', 'q2', 'q3',\n",
    "       'year', 'round', 'date', 'fp1_date', 'fp1_time', 'fp2_date', 'fp2_time',\n",
    "       'fp3_date', 'fp3_time', 'quali_date', 'quali_time', 'sprint_date',\n",
    "       'sprint_time', 'resultId', 'grid', 'positionOrder', 'laps',\n",
    "       'fastestLap', 'rank', 'fastestLapTime', 'fastestLapSpeed', 'statusId']].fillna(0)"
   ]
  },
  {
   "cell_type": "code",
   "execution_count": null,
   "id": "5328d03e",
   "metadata": {},
   "outputs": [],
   "source": [
    "df"
   ]
  },
  {
   "cell_type": "code",
   "execution_count": null,
   "id": "a19bc4ab",
   "metadata": {},
   "outputs": [],
   "source": [
    "duplicate_rows = df.duplicated()\n",
    "duplicate_rows"
   ]
  },
  {
   "cell_type": "code",
   "execution_count": null,
   "id": "5210d28f",
   "metadata": {},
   "outputs": [],
   "source": [
    "df.info()"
   ]
  },
  {
   "cell_type": "code",
   "execution_count": null,
   "id": "850dc141",
   "metadata": {},
   "outputs": [],
   "source": [
    "df.to_excel('df_excel.xlsx')"
   ]
  },
  {
   "cell_type": "code",
   "execution_count": null,
   "id": "06814dcd",
   "metadata": {},
   "outputs": [],
   "source": []
  },
  {
   "cell_type": "code",
   "execution_count": null,
   "id": "e8706efc",
   "metadata": {},
   "outputs": [],
   "source": [
    "print(f'The number of duplicate rows : {df.duplicated().sum()}')"
   ]
  },
  {
   "cell_type": "code",
   "execution_count": null,
   "id": "e1a663ee",
   "metadata": {},
   "outputs": [],
   "source": [
    "num_null = (df['number'] == r'\\N').sum()\n",
    "num_null "
   ]
  },
  {
   "cell_type": "code",
   "execution_count": null,
   "id": "87a90a25",
   "metadata": {},
   "outputs": [],
   "source": [
    "nun_null = (df['number'] != r'\\N').sum()\n",
    "nun_null "
   ]
  },
  {
   "cell_type": "code",
   "execution_count": null,
   "id": "3808ca18",
   "metadata": {},
   "outputs": [],
   "source": [
    "df = df.drop(labels = ['number','code', 'url'], axis = 1)\n",
    "df.head()"
   ]
  },
  {
   "cell_type": "code",
   "execution_count": null,
   "id": "806783b6",
   "metadata": {},
   "outputs": [],
   "source": [
    "drivers_theyoungest = df.sort_values(by='dob', ascending=False)[:5]\n",
    "drivers_theyoungest"
   ]
  },
  {
   "cell_type": "code",
   "execution_count": null,
   "id": "a4fc77d8",
   "metadata": {},
   "outputs": [],
   "source": [
    "drivers_theoldest = df.sort_values(by='dob')[:5]\n",
    "drivers_theoldest"
   ]
  },
  {
   "cell_type": "code",
   "execution_count": null,
   "id": "115baf68",
   "metadata": {},
   "outputs": [],
   "source": [
    "counts = df['name'].value_counts()\n",
    "circuits_pop = pd.DataFrame({'circuitId': counts.index, 'number of times': counts.values})\n",
    "circuits_pop"
   ]
  },
  {
   "cell_type": "code",
   "execution_count": null,
   "id": "382e62a4",
   "metadata": {},
   "outputs": [],
   "source": [
    "top_10 = df['name'].value_counts()[:10]\n",
    "top_10"
   ]
  },
  {
   "cell_type": "code",
   "execution_count": null,
   "id": "e161c0f9",
   "metadata": {},
   "outputs": [],
   "source": [
    "sns.set(style=\"darkgrid\", palette=\"colorblind\")\n",
    "plt.figure(figsize=(20, 6))\n",
    "ax = sns.barplot(x=top_10.index, y=top_10.values)\n",
    "ax.set_title(\"Top 10 Circuits in F1\",fontsize=25)\n",
    "\n",
    "\n",
    "for i, v in enumerate(top_10):\n",
    "    ax.text(i, v + 10, str(v), ha='center', fontsize=14)\n",
    "\n",
    "\n",
    "plt.show()"
   ]
  },
  {
   "cell_type": "markdown",
   "id": "1a12a3f7",
   "metadata": {},
   "source": [
    "sns.barplot(x=top_10.index, y=top_10.values, color='steelblue')\n",
    "plt.figure(figsize=(40, 40))"
   ]
  },
  {
   "cell_type": "code",
   "execution_count": null,
   "id": "20e779f8",
   "metadata": {},
   "outputs": [],
   "source": [
    "top_10.plot.bar()"
   ]
  },
  {
   "cell_type": "code",
   "execution_count": null,
   "id": "aa7510bb",
   "metadata": {},
   "outputs": [],
   "source": [
    "filtered_df = df[(df['year'] >= 2000) & (df['year'] <= 2023)]\n",
    "\n",
    "\n",
    "races_per_season = filtered_df.groupby('year')['raceId'].nunique()\n",
    "\n",
    "\n",
    "sns.set(style=\"darkgrid\")\n",
    "plt.figure(figsize=(20, 15))\n",
    "\n",
    "\n",
    "ax = sns.barplot(x=races_per_season.index, y=races_per_season.values, palette=\"colorblind\")\n",
    "\n",
    "# Set the title and labels\n",
    "plt.title(\"Number of Unique Races per Season in F1 (2000-2023)\", fontsize=25)\n",
    "plt.xlabel(\"Year\",fontsize = 25)\n",
    "plt.ylabel(\"Number of Races\", fontsize = 25)\n",
    "\n",
    "# Show the plot\n",
    "plt.show()"
   ]
  },
  {
   "cell_type": "code",
   "execution_count": null,
   "id": "b589ce90",
   "metadata": {},
   "outputs": [],
   "source": [
    "races_per_season = races.groupby('year')['raceId'].nunique()"
   ]
  },
  {
   "cell_type": "code",
   "execution_count": null,
   "id": "63ab6896",
   "metadata": {},
   "outputs": [],
   "source": [
    "races_per_season"
   ]
  },
  {
   "cell_type": "code",
   "execution_count": null,
   "id": "74df85b5",
   "metadata": {},
   "outputs": [],
   "source": [
    "column_headers = df.columns.tolist()\n",
    "column_headers"
   ]
  },
  {
   "cell_type": "code",
   "execution_count": null,
   "id": "e096856a",
   "metadata": {},
   "outputs": [],
   "source": [
    "average_speed_df = filtered_df[['raceId', 'year', 'laps', 'milliseconds']]\n",
    "\n",
    "average_speed_df['seconds'] = average_speed_df['milliseconds'] / 1000\n",
    "\n",
    "average_speed_df['average_speed_kph'] = (average_speed_df['laps'] * 4.3) / (average_speed_df['seconds'] / 3600)\n",
    "\n",
    "\n",
    "print(average_speed_df[['raceId', 'year', 'average_speed_kph']])\n"
   ]
  },
  {
   "cell_type": "code",
   "execution_count": null,
   "id": "99d59216",
   "metadata": {},
   "outputs": [],
   "source": [
    "unique_constructor_names = df[['constructorId', 'name']].drop_duplicates()\n",
    "unique_constructor_names"
   ]
  },
  {
   "cell_type": "code",
   "execution_count": null,
   "id": "0a322f09",
   "metadata": {},
   "outputs": [],
   "source": [
    "df.columns"
   ]
  },
  {
   "cell_type": "code",
   "execution_count": null,
   "id": "71ea5041",
   "metadata": {},
   "outputs": [],
   "source": [
    "merged_df3 = pd.merge(results, lap_times ,on='raceId', how='inner',suffixes=('_results','_lap_times'))\n"
   ]
  },
  {
   "cell_type": "code",
   "execution_count": null,
   "id": "403693ac",
   "metadata": {},
   "outputs": [],
   "source": [
    "merged_df4 = pd.merge(merged_df3, races, on=['raceId'], how='inner')"
   ]
  },
  {
   "cell_type": "code",
   "execution_count": null,
   "id": "c614b60d",
   "metadata": {},
   "outputs": [],
   "source": [
    "merged_df4"
   ]
  },
  {
   "cell_type": "code",
   "execution_count": null,
   "id": "fc603b49",
   "metadata": {},
   "outputs": [],
   "source": [
    "merged_df4.columns"
   ]
  },
  {
   "cell_type": "code",
   "execution_count": null,
   "id": "cec63e6b",
   "metadata": {},
   "outputs": [],
   "source": [
    "merged_df4"
   ]
  },
  {
   "cell_type": "code",
   "execution_count": null,
   "id": "3dcbd501",
   "metadata": {},
   "outputs": [],
   "source": [
    "results_filtered1 = merged_df4[(merged_df4['year'] >= 2000) & (merged_df4['year'] <= 2023)]\n",
    "\n",
    "results_filtered1"
   ]
  },
  {
   "cell_type": "code",
   "execution_count": null,
   "id": "c05d7666",
   "metadata": {},
   "outputs": [],
   "source": []
  }
 ],
 "metadata": {
  "kernelspec": {
   "display_name": "Python 3 (ipykernel)",
   "language": "python",
   "name": "python3"
  },
  "language_info": {
   "codemirror_mode": {
    "name": "ipython",
    "version": 3
   },
   "file_extension": ".py",
   "mimetype": "text/x-python",
   "name": "python",
   "nbconvert_exporter": "python",
   "pygments_lexer": "ipython3",
   "version": "3.9.13"
  }
 },
 "nbformat": 4,
 "nbformat_minor": 5
}
